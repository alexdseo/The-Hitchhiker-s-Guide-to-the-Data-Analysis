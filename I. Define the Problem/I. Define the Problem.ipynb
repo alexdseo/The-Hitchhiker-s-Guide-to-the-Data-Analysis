{
 "cells": [
  {
   "cell_type": "markdown",
   "metadata": {},
   "source": [
    "## I. Define the Problem\n",
    "\n",
    "   The first step to start a project is to define the problem and setting a goal of what you want to get out of this project. Every project needs to have their own unique goals. For example, ~\n",
    "Always keep this in mind, can get you ready for the software requirement, gives you hint of what you kind of data you will need and what analysis you need to perform, domain knowledge"
   ]
  },
  {
   "cell_type": "markdown",
   "metadata": {},
   "source": [
    "### Domain Knowledge\n",
    "\n",
    "   Domain Knowledge normally refers to ~"
   ]
  },
  {
   "cell_type": "markdown",
   "metadata": {},
   "source": [
    "### Software Requirments\n",
    "\n",
    "   As I mentioned above, by defining the problem for your project, you can get ready with the software requirements that you will need throughout your project. \n",
    "+License file + YAML file"
   ]
  },
  {
   "cell_type": "markdown",
   "metadata": {
    "collapsed": true
   },
   "source": [
    "Define the Question/Problem\n",
    "•\tWhat is the purpose of the question?(Prediction? Decision Making? Data Mining? etc…) \n",
    "o\tIs this a clustering, association rule, anomaly detection or predictive modeling task?\n",
    "o\tIf it is predictive modeling, is it\n",
    "\tClassification\n",
    "\tRegression\n",
    "\tOr Ordinal Regression?\n",
    "•\tWhat kind of data do we have? What do we know?(Data Understanding)\n",
    "1.\tTo understand the data we need some background knowledge (How is it collected?Who collected?Is there relevant study?)\n",
    "2.\tTo understand the data we should look at what data do we have\n",
    "ex)checking units of quantitative data(is it ratio?is it interval?is it binary?)\n",
    "     checking if there are qualitative data(Is it nominal? Is it ordinal?)  \t\t   checking if there are time series data / sequential data    etc….\n",
    "\t\t\tcategorical: nominal, ordinal\n",
    "\t\t\tnumeric: interval, ratio\n",
    "\n",
    " \t\tThis sub-step can be followed by Data Exploration.\n",
    "\n",
    "•\tHow should we interpret our data?(There could be different perspectives of looking at the dataset)\n",
    "•\tWhat kind of information can we obtain from the dataset?\n",
    "•\tWhat’s special of our data? What traits does our dataset have?(ex) Dimensionality, Sparsity, Outliers)\n",
    "\n",
    "\tThis step will determine how you will going to analyze the data\n"
   ]
  }
 ],
 "metadata": {
  "kernelspec": {
   "display_name": "Python 3",
   "language": "python",
   "name": "python3"
  },
  "language_info": {
   "codemirror_mode": {
    "name": "ipython",
    "version": 3
   },
   "file_extension": ".py",
   "mimetype": "text/x-python",
   "name": "python",
   "nbconvert_exporter": "python",
   "pygments_lexer": "ipython3",
   "version": "3.6.2"
  }
 },
 "nbformat": 4,
 "nbformat_minor": 2
}
